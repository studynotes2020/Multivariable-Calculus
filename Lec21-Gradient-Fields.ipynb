{
 "cells": [
  {
   "cell_type": "markdown",
   "metadata": {},
   "source": [
    "# Last time\n",
    "\n",
    "If $\\vec F = \\nabla f$ is a gradient field, then $\\int_c \\vec F \\cdot \\ d\\vec r = f(p_1) - f(p_0)$\n",
    "\n",
    "We say the line integrals are path independent. Equivalent to saying, the vector fields are conservative if closed curve $\\int_c \\vec F \\cdot \\ d\\vec r = 0$\n",
    "\n",
    "This lecture talks about how to decide whether a vector field is a gradient field and how to find potential function if it is a gradient field\n"
   ]
  },
  {
   "cell_type": "markdown",
   "metadata": {},
   "source": [
    "## How we know $\\vec F = \\langle M, N \\rangle$ is a gradient field?\n",
    "\n",
    "If it is a gradient field, $\\vec F = \\nabla f$, then $M = f_x$ and $N = f_y$, then $f_{xy} = f_{yx} \\implies M_y = N_x$\n",
    "\n",
    "If you have a gradient field, it should have the above property. You take x component derivative wrt y is equal to y component derivative wrt x\n",
    "\n",
    "Conversely, if $\\vec F = \\langle M, N \\rangle$ defined, differentiable everywhere and $M_y = N_x$ then $\\vec F$ is a gradient field\n",
    "\n",
    "Example: $\\vec F = -y\\hat i + x\\hat j$ where $M = -y, N = x$\n",
    "\n",
    "$$\\frac{\\partial M}{\\partial y} = -1, \\quad \\frac{\\partial N}{\\partial x} = 1$$\n",
    "\n",
    "The results are not equal\n",
    "\n",
    "$\\vec F$ is not a gradient field.\n",
    "\n",
    "Example:  $\\vec F = (4x^2 + axy)\\hat i + (3y^2 + 4x^2)\\hat j$. For what value of $a$, is F a gradient field\n",
    "\n",
    "$$\\frac{\\partial M}{\\partial y} = ax, \\quad \\frac{\\partial N}{\\partial x} = 8x$$ \n",
    "\n",
    "They are equal when $a = 8$. Two partial derivative must be equal everywhere, so we don't want to solve for a particular x. We cannot say when x is zero, a is 8\n",
    "\n",
    "Next question is how to we find a function that has those as gradient?\n",
    "\n",
    "There are two systematic methods\n"
   ]
  },
  {
   "cell_type": "markdown",
   "metadata": {},
   "source": [
    "## Finding the potential\n",
    "\n",
    "We do this only after we get $M_x = N_y$\n",
    "\n",
    "### First method: Computing line integrals\n",
    "\n",
    "Given $\\vec F = (4x^2 + 8xy)\\hat i + (3y^2 + 4x^2)\\hat j$ and the motion starts from (0,0) moves to $(x_1, y_1)$.\n",
    "\n",
    "$$\\int_c \\vec F \\cdot \\ d\\vec r = f(x_1, y_1) - f(0, 0)$$\n",
    "\n",
    "$$f(x_1, y_1) = f(0, 0) + \\int_c \\vec F \\cdot \\ d\\vec r$$\n",
    "\n",
    "$f(0, 0)$ is a constant, like a integration constant. To integrate curve c is hard, it is easier to break it down into x component and y component. So the trajectory c become (0,0) to (x1, 0), then c1 = (x1, 0) to c2 = (x1, y1)\n",
    "\n",
    "$$\\int_c \\vec F \\cdot \\ d\\vec r = \\int_c (4x^2 + 8xy)\\ dx + (3y^2 + 4x^2)\\ dy$$\n",
    "\n",
    "On $c_1$, x goes from 0 to x1. $y = 0, dy = 0$\n",
    "\n",
    "$$\\int_{c_1} \\vec F \\cdot \\ d\\vec r = \\int_0^{x_1} 4x^2\\ dx = \\frac43 x_1^3$$\n",
    "\n",
    "On $c_2$, y goes from 0 to y1. $x = x_1, dx = 0$\n",
    "\n",
    "$$\\int_{c_2} \\vec F \\cdot \\ d\\vec r = \\int_0^{y_1} (3y^2 + 4x_1^2)\\ dy = [y^3 + 4x_1^2y]_0^{y_1} = y_1^3 + 4x_1^2 y_1$$\n",
    "\n",
    "Sum the results\n",
    "\n",
    "$$\\int_c \\vec F \\cdot \\ d\\vec r = \\int_{c_1} \\vec F \\cdot \\ d\\vec r + \\int_{c_2} \\vec F \\cdot \\ d\\vec r $$\n",
    "\n",
    "and $f(0, 0) = c$\n",
    "\n",
    "$$ f(x_1, y_1) = \\frac43 x_1^3 + y_1^3 + 4x_1^2 y_1 + c$$\n",
    "\n",
    "$$f(x,y) = \\frac43 x^3 + y^3 + 4x^2 y + c$$\n",
    "\n",
    "We can check the result by computing the gradient of this function\n"
   ]
  },
  {
   "cell_type": "markdown",
   "metadata": {},
   "source": [
    "### Second method: Antiderivatives\n",
    "\n",
    "Want to solve $f_x = 4x^2 + 8xy$, $f_y = 3y^2 + 4x^2$\n",
    "\n",
    "Integrate $f_x$ wrt x\n",
    "\n",
    "$$f = \\frac43 x^3 + 4x^2y + g(y)$$\n",
    "\n",
    "The constant is not depend on x, but it might depends on y, so we write $g(y)$\n",
    "\n",
    "$$f_y = 4x^2 + g'(y)$$\n",
    "\n",
    "and we would like match this $f_y$ to the $f_y$ above\n",
    "\n",
    "$$4x^2 + g'(y) = 3y^2 + 4x^2$$\n",
    "\n",
    "$$g'(y) = 3y^2$$\n",
    "\n",
    "$$g(y) = y^3 + c$$\n",
    "\n",
    "This time constant is the true constant as it doesn't depend on x and y. Plug the result back to f\n",
    "\n",
    "$$f = \\frac43 x^3 + 4x^2y + y^3 + c$$"
   ]
  },
  {
   "cell_type": "markdown",
   "metadata": {},
   "source": [
    "## Equivalance\n",
    "\n",
    "$\\vec F = \\langle M, N \\rangle$ is a gradient field in a region of the plane\n",
    "\n",
    "$\\iff$ Conservative: $\\oint_c \\vec F \\cdot \\ d\\vec r = 0$ for closed c. The circle on integral to tell us this is a curse encloses itself\n",
    "\n",
    "$\\implies N_x = M_y$ at every point\n",
    "\n",
    "$\\impliedby$ if $\\vec F$ is defined in entire plane. Or simply-connected region"
   ]
  },
  {
   "cell_type": "markdown",
   "metadata": {},
   "source": [
    "## Curl of vector field\n",
    "\n",
    "Definition: $curl(\\vec F) = N_x - M_y$\n",
    "\n",
    "$ N_x = M_y \\implies curl(\\vec F) = 0$\n",
    "\n",
    "Test for conservativeness is $curl(\\vec F) = 0$\n",
    "\n",
    "For a velocity field, curl measures rotation component of a motion. If $\\vec F = \\langle a, b \\rangle$ where a, b is constant, the fluid is just moving in the same direction, then $curl(\\vec F) = 0$\n",
    "\n",
    "Let say the velocity field pointing radially away from the origin, $\\vec F = \\langle x, y \\rangle$, \n",
    "\n",
    "$$curl(\\vec F) = \\frac{\\partial y}{\\partial x} - \\frac{\\partial x}{\\partial y} = 0$$\n",
    "\n",
    "There is also no rotation\n",
    "\n",
    "Let $\\vec F = \\langle -y, x \\rangle$\n",
    "\n",
    "$$curl(\\vec F) = \\frac{\\partial x}{\\partial x} - \\frac{\\partial (-y)}{\\partial y} = 2$$\n",
    "\n",
    "Actually this is rotating at unit angular speed, so the curl measure twice of angular velocty of rotation component of velocity field. The sign of a curl tells you whether the rotation is clockwise or counterclockwise\n",
    "\n",
    "Curl of a force field measures torque exerted on a test object in the field\n",
    "\n",
    "$$\\frac{\\text{torque}}{\\text{moment of inertia}} = \\frac{d(\\text{angular velocity})}{dt}$$\n",
    "\n",
    "$$\\frac{\\text{force}}{\\text{mass}} = \\frac{d(\\text{velocity})}{dt}$$"
   ]
  },
  {
   "cell_type": "code",
   "execution_count": null,
   "metadata": {},
   "outputs": [],
   "source": []
  }
 ],
 "metadata": {
  "kernelspec": {
   "display_name": "Julia 1.5.0",
   "language": "julia",
   "name": "julia-1.5"
  },
  "language_info": {
   "file_extension": ".jl",
   "mimetype": "application/julia",
   "name": "julia",
   "version": "1.5.0"
  }
 },
 "nbformat": 4,
 "nbformat_minor": 4
}
