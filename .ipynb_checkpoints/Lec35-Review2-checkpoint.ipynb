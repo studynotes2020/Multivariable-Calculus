{
 "cells": [
  {
   "cell_type": "markdown",
   "metadata": {},
   "source": [
    "# Units 3 and 4\n",
    "\n",
    "- Double integrals\n",
    "\n",
    "setting up bounds and how to evaluate them\n",
    "\n",
    "$$\\iint f(x,y)\\ dy\\ dx$$\n",
    "\n",
    "First evaluate inner integral, fixed x constant as a line\n",
    "\n",
    "$$\\int_{\\text{y bottom(x)}}^{\\text{y top(x)}} f(x,y)\\ dy$$\n",
    "\n",
    "Then evaluate at x min and x max\n",
    "\n",
    "$$\\int_{min(x)}^{max(x)} innerintegrals \\ dx$$\n",
    "\n",
    "Also in polar coordinates - $dA = r\\ dr\\ d\\theta$"
   ]
  },
  {
   "cell_type": "code",
   "execution_count": null,
   "metadata": {},
   "outputs": [],
   "source": []
  }
 ],
 "metadata": {
  "kernelspec": {
   "display_name": "Julia 1.5.0",
   "language": "julia",
   "name": "julia-1.5"
  },
  "language_info": {
   "file_extension": ".jl",
   "mimetype": "application/julia",
   "name": "julia",
   "version": "1.5.0"
  }
 },
 "nbformat": 4,
 "nbformat_minor": 4
}
